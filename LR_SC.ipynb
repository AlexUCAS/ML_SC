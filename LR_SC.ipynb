{
  "nbformat": 4,
  "nbformat_minor": 0,
  "metadata": {
    "colab": {
      "provenance": [],
      "collapsed_sections": [
        "dPjzqwG7o5JW",
        "10-bB1AKw_Ta"
      ]
    },
    "kernelspec": {
      "name": "python3",
      "display_name": "Python 3"
    },
    "language_info": {
      "name": "python"
    }
  },
  "cells": [
    {
      "cell_type": "markdown",
      "source": [
        "# Linear regression\n",
        "Superconducting database from UCI website. \n",
        "\n",
        "21263 samples (materials that superconduct). \n",
        "\n",
        "Features: the number of atoms of each element; 81 properties like weighted atomic mass, weighted first ionization energy of atoms, etc.\n",
        "\n",
        "Target: critical temperature."
      ],
      "metadata": {
        "id": "3m4w9zWsY3sa"
      }
    },
    {
      "cell_type": "markdown",
      "source": [
        "# 1. Import data "
      ],
      "metadata": {
        "id": "dPjzqwG7o5JW"
      }
    },
    {
      "cell_type": "code",
      "execution_count": 620,
      "metadata": {
        "id": "yi3nFmUs-0vp",
        "colab": {
          "base_uri": "https://localhost:8080/",
          "height": 317
        },
        "outputId": "0312bb2e-cb29-464a-ecca-dc833b25523f"
      },
      "outputs": [
        {
          "output_type": "stream",
          "name": "stdout",
          "text": [
            "(21263, 159)\n"
          ]
        },
        {
          "output_type": "execute_result",
          "data": {
            "text/plain": [
              "     H   Li   Be    B    C    N    O    F   Na   Mg  ...  wtd_mean_Valence  \\\n",
              "0  0.0  0.0  0.0  0.0  0.0  0.0  4.0  0.0  0.0  0.0  ...          2.257143   \n",
              "1  0.0  0.0  0.0  0.0  0.0  0.0  4.0  0.0  0.0  0.0  ...          2.257143   \n",
              "2  0.0  0.0  0.0  0.0  0.0  0.0  4.0  0.0  0.0  0.0  ...          2.271429   \n",
              "3  0.0  0.0  0.0  0.0  0.0  0.0  4.0  0.0  0.0  0.0  ...          2.264286   \n",
              "4  0.0  0.0  0.0  0.0  0.0  0.0  4.0  0.0  0.0  0.0  ...          2.242857   \n",
              "\n",
              "   gmean_Valence  wtd_gmean_Valence  entropy_Valence  wtd_entropy_Valence  \\\n",
              "0       2.213364           2.219783         1.368922             1.066221   \n",
              "1       1.888175           2.210679         1.557113             1.047221   \n",
              "2       2.213364           2.232679         1.368922             1.029175   \n",
              "3       2.213364           2.226222         1.368922             1.048834   \n",
              "4       2.213364           2.206963         1.368922             1.096052   \n",
              "\n",
              "   range_Valence  wtd_range_Valence  std_Valence  wtd_std_Valence  \\\n",
              "0              1           1.085714     0.433013         0.437059   \n",
              "1              2           1.128571     0.632456         0.468606   \n",
              "2              1           1.114286     0.433013         0.444697   \n",
              "3              1           1.100000     0.433013         0.440952   \n",
              "4              1           1.057143     0.433013         0.428809   \n",
              "\n",
              "   critical_temp  \n",
              "0           29.0  \n",
              "1           26.0  \n",
              "2           19.0  \n",
              "3           22.0  \n",
              "4           23.0  \n",
              "\n",
              "[5 rows x 159 columns]"
            ],
            "text/html": [
              "\n",
              "  <div id=\"df-7b030ed0-7356-43f6-a941-9e113603ac2a\">\n",
              "    <div class=\"colab-df-container\">\n",
              "      <div>\n",
              "<style scoped>\n",
              "    .dataframe tbody tr th:only-of-type {\n",
              "        vertical-align: middle;\n",
              "    }\n",
              "\n",
              "    .dataframe tbody tr th {\n",
              "        vertical-align: top;\n",
              "    }\n",
              "\n",
              "    .dataframe thead th {\n",
              "        text-align: right;\n",
              "    }\n",
              "</style>\n",
              "<table border=\"1\" class=\"dataframe\">\n",
              "  <thead>\n",
              "    <tr style=\"text-align: right;\">\n",
              "      <th></th>\n",
              "      <th>H</th>\n",
              "      <th>Li</th>\n",
              "      <th>Be</th>\n",
              "      <th>B</th>\n",
              "      <th>C</th>\n",
              "      <th>N</th>\n",
              "      <th>O</th>\n",
              "      <th>F</th>\n",
              "      <th>Na</th>\n",
              "      <th>Mg</th>\n",
              "      <th>...</th>\n",
              "      <th>wtd_mean_Valence</th>\n",
              "      <th>gmean_Valence</th>\n",
              "      <th>wtd_gmean_Valence</th>\n",
              "      <th>entropy_Valence</th>\n",
              "      <th>wtd_entropy_Valence</th>\n",
              "      <th>range_Valence</th>\n",
              "      <th>wtd_range_Valence</th>\n",
              "      <th>std_Valence</th>\n",
              "      <th>wtd_std_Valence</th>\n",
              "      <th>critical_temp</th>\n",
              "    </tr>\n",
              "  </thead>\n",
              "  <tbody>\n",
              "    <tr>\n",
              "      <th>0</th>\n",
              "      <td>0.0</td>\n",
              "      <td>0.0</td>\n",
              "      <td>0.0</td>\n",
              "      <td>0.0</td>\n",
              "      <td>0.0</td>\n",
              "      <td>0.0</td>\n",
              "      <td>4.0</td>\n",
              "      <td>0.0</td>\n",
              "      <td>0.0</td>\n",
              "      <td>0.0</td>\n",
              "      <td>...</td>\n",
              "      <td>2.257143</td>\n",
              "      <td>2.213364</td>\n",
              "      <td>2.219783</td>\n",
              "      <td>1.368922</td>\n",
              "      <td>1.066221</td>\n",
              "      <td>1</td>\n",
              "      <td>1.085714</td>\n",
              "      <td>0.433013</td>\n",
              "      <td>0.437059</td>\n",
              "      <td>29.0</td>\n",
              "    </tr>\n",
              "    <tr>\n",
              "      <th>1</th>\n",
              "      <td>0.0</td>\n",
              "      <td>0.0</td>\n",
              "      <td>0.0</td>\n",
              "      <td>0.0</td>\n",
              "      <td>0.0</td>\n",
              "      <td>0.0</td>\n",
              "      <td>4.0</td>\n",
              "      <td>0.0</td>\n",
              "      <td>0.0</td>\n",
              "      <td>0.0</td>\n",
              "      <td>...</td>\n",
              "      <td>2.257143</td>\n",
              "      <td>1.888175</td>\n",
              "      <td>2.210679</td>\n",
              "      <td>1.557113</td>\n",
              "      <td>1.047221</td>\n",
              "      <td>2</td>\n",
              "      <td>1.128571</td>\n",
              "      <td>0.632456</td>\n",
              "      <td>0.468606</td>\n",
              "      <td>26.0</td>\n",
              "    </tr>\n",
              "    <tr>\n",
              "      <th>2</th>\n",
              "      <td>0.0</td>\n",
              "      <td>0.0</td>\n",
              "      <td>0.0</td>\n",
              "      <td>0.0</td>\n",
              "      <td>0.0</td>\n",
              "      <td>0.0</td>\n",
              "      <td>4.0</td>\n",
              "      <td>0.0</td>\n",
              "      <td>0.0</td>\n",
              "      <td>0.0</td>\n",
              "      <td>...</td>\n",
              "      <td>2.271429</td>\n",
              "      <td>2.213364</td>\n",
              "      <td>2.232679</td>\n",
              "      <td>1.368922</td>\n",
              "      <td>1.029175</td>\n",
              "      <td>1</td>\n",
              "      <td>1.114286</td>\n",
              "      <td>0.433013</td>\n",
              "      <td>0.444697</td>\n",
              "      <td>19.0</td>\n",
              "    </tr>\n",
              "    <tr>\n",
              "      <th>3</th>\n",
              "      <td>0.0</td>\n",
              "      <td>0.0</td>\n",
              "      <td>0.0</td>\n",
              "      <td>0.0</td>\n",
              "      <td>0.0</td>\n",
              "      <td>0.0</td>\n",
              "      <td>4.0</td>\n",
              "      <td>0.0</td>\n",
              "      <td>0.0</td>\n",
              "      <td>0.0</td>\n",
              "      <td>...</td>\n",
              "      <td>2.264286</td>\n",
              "      <td>2.213364</td>\n",
              "      <td>2.226222</td>\n",
              "      <td>1.368922</td>\n",
              "      <td>1.048834</td>\n",
              "      <td>1</td>\n",
              "      <td>1.100000</td>\n",
              "      <td>0.433013</td>\n",
              "      <td>0.440952</td>\n",
              "      <td>22.0</td>\n",
              "    </tr>\n",
              "    <tr>\n",
              "      <th>4</th>\n",
              "      <td>0.0</td>\n",
              "      <td>0.0</td>\n",
              "      <td>0.0</td>\n",
              "      <td>0.0</td>\n",
              "      <td>0.0</td>\n",
              "      <td>0.0</td>\n",
              "      <td>4.0</td>\n",
              "      <td>0.0</td>\n",
              "      <td>0.0</td>\n",
              "      <td>0.0</td>\n",
              "      <td>...</td>\n",
              "      <td>2.242857</td>\n",
              "      <td>2.213364</td>\n",
              "      <td>2.206963</td>\n",
              "      <td>1.368922</td>\n",
              "      <td>1.096052</td>\n",
              "      <td>1</td>\n",
              "      <td>1.057143</td>\n",
              "      <td>0.433013</td>\n",
              "      <td>0.428809</td>\n",
              "      <td>23.0</td>\n",
              "    </tr>\n",
              "  </tbody>\n",
              "</table>\n",
              "<p>5 rows × 159 columns</p>\n",
              "</div>\n",
              "      <button class=\"colab-df-convert\" onclick=\"convertToInteractive('df-7b030ed0-7356-43f6-a941-9e113603ac2a')\"\n",
              "              title=\"Convert this dataframe to an interactive table.\"\n",
              "              style=\"display:none;\">\n",
              "        \n",
              "  <svg xmlns=\"http://www.w3.org/2000/svg\" height=\"24px\"viewBox=\"0 0 24 24\"\n",
              "       width=\"24px\">\n",
              "    <path d=\"M0 0h24v24H0V0z\" fill=\"none\"/>\n",
              "    <path d=\"M18.56 5.44l.94 2.06.94-2.06 2.06-.94-2.06-.94-.94-2.06-.94 2.06-2.06.94zm-11 1L8.5 8.5l.94-2.06 2.06-.94-2.06-.94L8.5 2.5l-.94 2.06-2.06.94zm10 10l.94 2.06.94-2.06 2.06-.94-2.06-.94-.94-2.06-.94 2.06-2.06.94z\"/><path d=\"M17.41 7.96l-1.37-1.37c-.4-.4-.92-.59-1.43-.59-.52 0-1.04.2-1.43.59L10.3 9.45l-7.72 7.72c-.78.78-.78 2.05 0 2.83L4 21.41c.39.39.9.59 1.41.59.51 0 1.02-.2 1.41-.59l7.78-7.78 2.81-2.81c.8-.78.8-2.07 0-2.86zM5.41 20L4 18.59l7.72-7.72 1.47 1.35L5.41 20z\"/>\n",
              "  </svg>\n",
              "      </button>\n",
              "      \n",
              "  <style>\n",
              "    .colab-df-container {\n",
              "      display:flex;\n",
              "      flex-wrap:wrap;\n",
              "      gap: 12px;\n",
              "    }\n",
              "\n",
              "    .colab-df-convert {\n",
              "      background-color: #E8F0FE;\n",
              "      border: none;\n",
              "      border-radius: 50%;\n",
              "      cursor: pointer;\n",
              "      display: none;\n",
              "      fill: #1967D2;\n",
              "      height: 32px;\n",
              "      padding: 0 0 0 0;\n",
              "      width: 32px;\n",
              "    }\n",
              "\n",
              "    .colab-df-convert:hover {\n",
              "      background-color: #E2EBFA;\n",
              "      box-shadow: 0px 1px 2px rgba(60, 64, 67, 0.3), 0px 1px 3px 1px rgba(60, 64, 67, 0.15);\n",
              "      fill: #174EA6;\n",
              "    }\n",
              "\n",
              "    [theme=dark] .colab-df-convert {\n",
              "      background-color: #3B4455;\n",
              "      fill: #D2E3FC;\n",
              "    }\n",
              "\n",
              "    [theme=dark] .colab-df-convert:hover {\n",
              "      background-color: #434B5C;\n",
              "      box-shadow: 0px 1px 3px 1px rgba(0, 0, 0, 0.15);\n",
              "      filter: drop-shadow(0px 1px 2px rgba(0, 0, 0, 0.3));\n",
              "      fill: #FFFFFF;\n",
              "    }\n",
              "  </style>\n",
              "\n",
              "      <script>\n",
              "        const buttonEl =\n",
              "          document.querySelector('#df-7b030ed0-7356-43f6-a941-9e113603ac2a button.colab-df-convert');\n",
              "        buttonEl.style.display =\n",
              "          google.colab.kernel.accessAllowed ? 'block' : 'none';\n",
              "\n",
              "        async function convertToInteractive(key) {\n",
              "          const element = document.querySelector('#df-7b030ed0-7356-43f6-a941-9e113603ac2a');\n",
              "          const dataTable =\n",
              "            await google.colab.kernel.invokeFunction('convertToInteractive',\n",
              "                                                     [key], {});\n",
              "          if (!dataTable) return;\n",
              "\n",
              "          const docLinkHtml = 'Like what you see? Visit the ' +\n",
              "            '<a target=\"_blank\" href=https://colab.research.google.com/notebooks/data_table.ipynb>data table notebook</a>'\n",
              "            + ' to learn more about interactive tables.';\n",
              "          element.innerHTML = '';\n",
              "          dataTable['output_type'] = 'display_data';\n",
              "          await google.colab.output.renderOutput(dataTable, element);\n",
              "          const docLink = document.createElement('div');\n",
              "          docLink.innerHTML = docLinkHtml;\n",
              "          element.appendChild(docLink);\n",
              "        }\n",
              "      </script>\n",
              "    </div>\n",
              "  </div>\n",
              "  "
            ]
          },
          "metadata": {},
          "execution_count": 620
        }
      ],
      "source": [
        "import pandas as pd\n",
        "from sklearn.linear_model import Ridge\n",
        "import matplotlib.pyplot as plt\n",
        "import numpy as np\n",
        "from sklearn import preprocessing\n",
        "import matplotlib.pyplot as plt\n",
        "\n",
        "# the number of different atoms\n",
        "df = pd.read_csv('https://raw.githubusercontent.com/AlexUCAS/ML_SC_LR/main/unique_m.csv')  \n",
        "df.drop(columns=['critical_temp', 'material'], inplace=True)\n",
        "df = df.loc[:, (df != 0).any(axis=0)]  # drop columns that only have zero\n",
        "# physical quantities\n",
        "df1 = pd.read_csv('https://raw.githubusercontent.com/AlexUCAS/ML_SC_LR/main/train.csv')\n",
        "columns = df1.columns\n",
        "df = pd.concat([df, df1], axis=1)\n",
        "print(df.shape)\n",
        "df.head()"
      ]
    },
    {
      "cell_type": "markdown",
      "source": [
        "# 2. Preprocessing features"
      ],
      "metadata": {
        "id": "10-bB1AKw_Ta"
      }
    },
    {
      "cell_type": "code",
      "source": [
        "print(df.shape)\n",
        "# Delete features that have little correlation with the target.(|correlation| < 0.2)\n",
        "correlationWithTarget = df.corr().iloc[:, -1:]\n",
        "correlationWithTarget = correlationWithTarget.loc[correlationWithTarget['critical_temp'].abs() >= 0.2]  \n",
        "index = correlationWithTarget.index\n",
        "df = df[index]\n",
        "print(df.shape)"
      ],
      "metadata": {
        "colab": {
          "base_uri": "https://localhost:8080/"
        },
        "id": "G8EqvaqnEHPO",
        "outputId": "b359c1af-6bf4-42df-b27f-18c431c26d74"
      },
      "execution_count": 621,
      "outputs": [
        {
          "output_type": "stream",
          "name": "stdout",
          "text": [
            "(21263, 159)\n",
            "(21263, 74)\n"
          ]
        }
      ]
    },
    {
      "cell_type": "code",
      "source": [
        "# pick out features highly correlated; keep independent features as least as possible\n",
        "correlationMatrix = df.corr()\n",
        "# build a dataframe 'a': index is features, the 1st and 2nd column is the list of correlated features \n",
        "# and the number of correlated features \n",
        "a = pd.Series(dtype='float64')  # the list of correlated features \n",
        "b = pd.Series(dtype='float64')  # the number of correlated features\n",
        "for feature in df.columns[:-1]:\n",
        "  a[feature] = correlationMatrix[feature].loc[correlationMatrix[feature] > 0.8].index.tolist()\n",
        "  a[feature].remove(feature)  # remove the feature itself from the list\n",
        "  b[feature] = len(a[feature])\n",
        "a = pd.concat([a, b], axis=1).reset_index()  \n",
        "a.set_index('index', inplace=True)\n",
        "a.sort_values(1, inplace=True, ascending=False)\n",
        "\n",
        "a = a[a[1] > 0]  # remove features that have no correlation with the rest\n",
        "abundant = []  # the features supposed to be removeded among those that have correlation with others\n",
        "while (a[1] != 0).sum() != 0:\n",
        "  abundant.append(a.index[-1])\n",
        "  for higherPoint in a.iloc[-1, 0]:  # considering a graph connecting correlated features \n",
        "                                     # where features correlated with more features locate higher\n",
        "    a.loc[higherPoint, 0].remove(a.index[-1])\n",
        "    a.loc[higherPoint, 1] = len(a.loc[higherPoint, 0])\n",
        "  a = a.iloc[:-1, :]\n",
        "  a = a[a[1] > 0]\n",
        "  a.sort_values(1, inplace=True, ascending=False)\n",
        "df.drop(columns=abundant, inplace=True)\n",
        "print(df.shape)\n",
        "df.sort_values('critical_temp',  inplace=True, ascending=False)"
      ],
      "metadata": {
        "colab": {
          "base_uri": "https://localhost:8080/"
        },
        "id": "OcHeg09TjLyf",
        "outputId": "cbca266c-834d-4573-9aad-875571892170"
      },
      "execution_count": 622,
      "outputs": [
        {
          "output_type": "stream",
          "name": "stdout",
          "text": [
            "(21263, 25)\n"
          ]
        }
      ]
    },
    {
      "cell_type": "markdown",
      "source": [
        "# 3. Linear regression"
      ],
      "metadata": {
        "id": "Rty7IIZS-YrL"
      }
    },
    {
      "cell_type": "code",
      "source": [
        "columnNames = df.columns\n",
        "x = df[columnNames[:-1]]  # features\n",
        "\n",
        "# scale to [0, 1]\n",
        "min_max_scaler = preprocessing.MinMaxScaler()\n",
        "x = min_max_scaler.fit_transform(x)\n",
        "\n",
        "# fit with regularization\n",
        "model = Ridge(alpha=1)\n",
        "model.fit(x, df['critical_temp'])\n",
        "df['predicted'] = model.predict(x)  # add a predicted Tc column\n",
        "df = df.sort_values('critical_temp').reset_index(drop=True)  # sort with respect to Tc; plot becomes readable after sorting\n",
        "\n",
        "plt.plot(df.index, df['critical_temp'], linewidth=1, label='critical_temp')\n",
        "plt.plot(df.index, df['predicted'], linewidth=0.08, label='predicted', alpha=0.4)\n",
        "leg = plt.legend()\n",
        "for legobj in leg.legendHandles:\n",
        "    legobj.set_linewidth(2.0)\n",
        "# plt.savefig('plot_2.pdf')\n",
        "\n",
        "# from google.colab import files\n",
        "# files.download('plot_2.pdf')\n",
        "\n",
        "from sklearn.metrics import r2_score\n",
        "\n",
        "r2_score(df['critical_temp'], df['predicted'])"
      ],
      "metadata": {
        "id": "pV3EPMCSG_0o",
        "colab": {
          "base_uri": "https://localhost:8080/",
          "height": 283
        },
        "outputId": "67f500ca-55b6-4bfd-e067-aa54acc1a028"
      },
      "execution_count": 623,
      "outputs": [
        {
          "output_type": "execute_result",
          "data": {
            "text/plain": [
              "0.6581830250433212"
            ]
          },
          "metadata": {},
          "execution_count": 623
        },
        {
          "output_type": "display_data",
          "data": {
            "text/plain": [
              "<Figure size 432x288 with 1 Axes>"
            ],
            "image/png": "[encoded data removed]"
          },
          "metadata": {
            "needs_background": "light"
          }
        }
      ]
    },
    {
      "cell_type": "code",
      "source": [
        "params = pd.Series(model.coef_, index=df[columnNames[:-1]].columns)\n",
        "plt.plot(params)\n",
        "plt.xticks([])\n",
        "print(pd.DataFrame({'effect': params.round(1)}))"
      ],
      "metadata": {
        "colab": {
          "base_uri": "https://localhost:8080/",
          "height": 699
        },
        "id": "QpeGCX_lWJ6y",
        "outputId": "eff9e482-bc74-4678-922c-5e5e662d09f6"
      },
      "execution_count": 624,
      "outputs": [
        {
          "output_type": "stream",
          "name": "stdout",
          "text": [
            "                               effect\n",
            "O                                43.3\n",
            "Ca                               80.3\n",
            "Cu                               10.7\n",
            "Sr                               65.1\n",
            "Y                                26.9\n",
            "Ba                              220.0\n",
            "Hg                               81.1\n",
            "std_atomic_mass                  21.2\n",
            "wtd_range_fie                   -20.1\n",
            "entropy_atomic_radius            26.4\n",
            "wtd_range_atomic_radius         -13.9\n",
            "wtd_range_Density                 9.7\n",
            "wtd_std_Density                 -21.3\n",
            "gmean_ElectronAffinity          -35.0\n",
            "wtd_std_ElectronAffinity          8.1\n",
            "wtd_gmean_FusionHeat             20.9\n",
            "std_FusionHeat                  -11.2\n",
            "mean_ThermalConductivity         94.9\n",
            "gmean_ThermalConductivity      -101.0\n",
            "wtd_range_ThermalConductivity    22.1\n",
            "std_ThermalConductivity         -10.4\n",
            "wtd_gmean_Valence               -18.2\n",
            "wtd_range_Valence                 9.7\n",
            "std_Valence                     -19.6\n"
          ]
        },
        {
          "output_type": "display_data",
          "data": {
            "text/plain": [
              "<Figure size 432x288 with 1 Axes>"
            ],
            "image/png": "[encoded data removed]"
          },
          "metadata": {
            "needs_background": "light"
          }
        }
      ]
    }
  ]
}